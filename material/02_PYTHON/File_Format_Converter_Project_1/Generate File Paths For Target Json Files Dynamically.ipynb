{
 "cells": [
  {
   "cell_type": "code",
   "execution_count": 13,
   "metadata": {},
   "outputs": [],
   "source": [
    "import glob\n",
    "import re\n",
    "import pandas as pd"
   ]
  },
  {
   "attachments": {},
   "cell_type": "markdown",
   "metadata": {},
   "source": [
    "- Get all the CSV file paths"
   ]
  },
  {
   "cell_type": "code",
   "execution_count": 14,
   "metadata": {},
   "outputs": [],
   "source": [
    "src_file_names = glob.glob(\n",
    "                'E:/Projects/Data_Engineering/Data-Engineering/material/02_PYTHON/File_Format_Converter_Project_1/data/retail_db/*/part-*',\n",
    "                recursive= True\n",
    ")"
   ]
  },
  {
   "cell_type": "code",
   "execution_count": 15,
   "metadata": {},
   "outputs": [
    {
     "data": {
      "text/plain": [
       "['E:/Projects/Data_Engineering/Data-Engineering/material/02_PYTHON/File_Format_Converter_Project_1/data/retail_db\\\\categories\\\\part-00000',\n",
       " 'E:/Projects/Data_Engineering/Data-Engineering/material/02_PYTHON/File_Format_Converter_Project_1/data/retail_db\\\\customers\\\\part-00000',\n",
       " 'E:/Projects/Data_Engineering/Data-Engineering/material/02_PYTHON/File_Format_Converter_Project_1/data/retail_db\\\\departments\\\\part-00000',\n",
       " 'E:/Projects/Data_Engineering/Data-Engineering/material/02_PYTHON/File_Format_Converter_Project_1/data/retail_db\\\\orders\\\\part-00000',\n",
       " 'E:/Projects/Data_Engineering/Data-Engineering/material/02_PYTHON/File_Format_Converter_Project_1/data/retail_db\\\\order_items\\\\part-00000',\n",
       " 'E:/Projects/Data_Engineering/Data-Engineering/material/02_PYTHON/File_Format_Converter_Project_1/data/retail_db\\\\products\\\\part-00000']"
      ]
     },
     "execution_count": 15,
     "metadata": {},
     "output_type": "execute_result"
    }
   ],
   "source": [
    "src_file_names\n"
   ]
  },
  {
   "attachments": {},
   "cell_type": "markdown",
   "metadata": {},
   "source": [
    "- Covert file path into list of folders"
   ]
  },
  {
   "cell_type": "code",
   "execution_count": 20,
   "metadata": {},
   "outputs": [
    {
     "name": "stdout",
     "output_type": "stream",
     "text": [
      "['E:', 'Projects', 'Data_Engineering', 'Data-Engineering', 'material', '02_PYTHON', 'File_Format_Converter_Project_1', 'data', 'retail_db', 'categories', 'part-00000']\n",
      "['E:', 'Projects', 'Data_Engineering', 'Data-Engineering', 'material', '02_PYTHON', 'File_Format_Converter_Project_1', 'data', 'retail_db', 'customers', 'part-00000']\n",
      "['E:', 'Projects', 'Data_Engineering', 'Data-Engineering', 'material', '02_PYTHON', 'File_Format_Converter_Project_1', 'data', 'retail_db', 'departments', 'part-00000']\n",
      "['E:', 'Projects', 'Data_Engineering', 'Data-Engineering', 'material', '02_PYTHON', 'File_Format_Converter_Project_1', 'data', 'retail_db', 'orders', 'part-00000']\n",
      "['E:', 'Projects', 'Data_Engineering', 'Data-Engineering', 'material', '02_PYTHON', 'File_Format_Converter_Project_1', 'data', 'retail_db', 'order_items', 'part-00000']\n",
      "['E:', 'Projects', 'Data_Engineering', 'Data-Engineering', 'material', '02_PYTHON', 'File_Format_Converter_Project_1', 'data', 'retail_db', 'products', 'part-00000']\n"
     ]
    }
   ],
   "source": [
    "for file in src_file_names:\n",
    "    file_path_list = re.split('[/\\\\\\]', file)\n",
    "    print(file_path_list)"
   ]
  },
  {
   "cell_type": "code",
   "execution_count": 21,
   "metadata": {},
   "outputs": [],
   "source": [
    "tgt_base_dir = 'E:/Projects/Data_Engineering/Data-Engineering/material/02_PYTHON/File_Format_Converter_Project_1/data/retail_db_json'"
   ]
  },
  {
   "cell_type": "code",
   "execution_count": 27,
   "metadata": {},
   "outputs": [
    {
     "data": {
      "text/plain": [
       "'part-00000'"
      ]
     },
     "execution_count": 27,
     "metadata": {},
     "output_type": "execute_result"
    }
   ],
   "source": [
    "ds_file_name = re.split('[/\\\\\\]',src_file_names[0])[-1]\n",
    "ds_file_name"
   ]
  },
  {
   "cell_type": "code",
   "execution_count": 29,
   "metadata": {},
   "outputs": [
    {
     "data": {
      "text/plain": [
       "'categories'"
      ]
     },
     "execution_count": 29,
     "metadata": {},
     "output_type": "execute_result"
    }
   ],
   "source": [
    "ds_name = re.split('[/\\\\\\]',src_file_names[0])[-2]\n",
    "ds_name"
   ]
  },
  {
   "cell_type": "code",
   "execution_count": 33,
   "metadata": {},
   "outputs": [
    {
     "data": {
      "text/plain": [
       "'E:/Projects/Data_Engineering/Data-Engineering/material/02_PYTHON/File_Format_Converter_Project_1/data/retail_db_json/categories/part-00000'"
      ]
     },
     "execution_count": 33,
     "metadata": {},
     "output_type": "execute_result"
    }
   ],
   "source": [
    "json_file_path = f'{tgt_base_dir}/{ds_name}/{ds_file_name}'\n",
    "json_file_path"
   ]
  },
  {
   "attachments": {},
   "cell_type": "markdown",
   "metadata": {},
   "source": [
    "## Combine all the above steps.\n"
   ]
  },
  {
   "cell_type": "code",
   "execution_count": 34,
   "metadata": {},
   "outputs": [
    {
     "name": "stdout",
     "output_type": "stream",
     "text": [
      "E:/Projects/Data_Engineering/Data-Engineering/material/02_PYTHON/File_Format_Converter_Project_1/data/retail_db_json/categories/part-00000\n",
      "E:/Projects/Data_Engineering/Data-Engineering/material/02_PYTHON/File_Format_Converter_Project_1/data/retail_db_json/customers/part-00000\n",
      "E:/Projects/Data_Engineering/Data-Engineering/material/02_PYTHON/File_Format_Converter_Project_1/data/retail_db_json/departments/part-00000\n",
      "E:/Projects/Data_Engineering/Data-Engineering/material/02_PYTHON/File_Format_Converter_Project_1/data/retail_db_json/orders/part-00000\n",
      "E:/Projects/Data_Engineering/Data-Engineering/material/02_PYTHON/File_Format_Converter_Project_1/data/retail_db_json/order_items/part-00000\n",
      "E:/Projects/Data_Engineering/Data-Engineering/material/02_PYTHON/File_Format_Converter_Project_1/data/retail_db_json/products/part-00000\n"
     ]
    }
   ],
   "source": [
    "for file in src_file_names:\n",
    "    ds_name = re.split('[/\\\\\\]',file)[-2]\n",
    "    ds_file_name = re.split('[/\\\\\\]', file)[-1]\n",
    "    json_file_path = f'{tgt_base_dir}/{ds_name}/{ds_file_name}'\n",
    "    print(json_file_path)"
   ]
  }
 ],
 "metadata": {
  "kernelspec": {
   "display_name": "data-venv",
   "language": "python",
   "name": "python3"
  },
  "language_info": {
   "codemirror_mode": {
    "name": "ipython",
    "version": 3
   },
   "file_extension": ".py",
   "mimetype": "text/x-python",
   "name": "python",
   "nbconvert_exporter": "python",
   "pygments_lexer": "ipython3",
   "version": "3.10.4"
  },
  "orig_nbformat": 4
 },
 "nbformat": 4,
 "nbformat_minor": 2
}
