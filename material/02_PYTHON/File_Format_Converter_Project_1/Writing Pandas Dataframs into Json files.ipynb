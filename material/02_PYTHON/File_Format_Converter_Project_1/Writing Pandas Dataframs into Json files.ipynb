{
 "cells": [
  {
   "attachments": {},
   "cell_type": "markdown",
   "metadata": {},
   "source": [
    "- We will combine all the previous knowledge and create the files from CSV to Json"
   ]
  },
  {
   "cell_type": "code",
   "execution_count": 9,
   "metadata": {},
   "outputs": [],
   "source": [
    "import pandas as pd # To apply the transformation on data and create dataframs.\n",
    "import json         # To read the json files for the structure. \n",
    "import glob         # To get the all the path for the folder structure. \n",
    "import os           # To create the path and files.\n",
    "import re           # To use regular expression."
   ]
  },
  {
   "cell_type": "code",
   "execution_count": 5,
   "metadata": {},
   "outputs": [
    {
     "data": {
      "text/plain": [
       "['order_id', 'order_date', 'order_customer_id', 'order_status']"
      ]
     },
     "execution_count": 5,
     "metadata": {},
     "output_type": "execute_result"
    }
   ],
   "source": [
    "# Get the schema details and column names \n",
    "schema_file_path = 'E:/Projects/Data_Engineering/Data-Engineering/material/02_PYTHON/File_Format_Converter_Project_1/data/retail_db/schemas.json'\n",
    "schema = json.load(\n",
    "                    open(schema_file_path)\n",
    "                   )\n",
    "\n",
    "# Get column name \n",
    "def get_column_names(schema, tableName, sortingKey = 'column_position'):\n",
    "    column_details = schema[tableName]\n",
    "    column_details_sort = sorted(column_details, key= lambda col:col[sortingKey])\n",
    "    return [col['column_name'] for col in column_details_sort]\n"
   ]
  },
  {
   "cell_type": "code",
   "execution_count": 7,
   "metadata": {},
   "outputs": [],
   "source": [
    "# Define all the paths\n",
    "\n",
    "src_file_path = glob.glob(\n",
    "                    'E:/Projects/Data_Engineering/Data-Engineering/material/02_PYTHON/File_Format_Converter_Project_1/data/retail_db/*/part-*',\n",
    "                     recursive= True\n",
    ")\n"
   ]
  },
  {
   "cell_type": "code",
   "execution_count": 21,
   "metadata": {},
   "outputs": [
    {
     "name": "stdout",
     "output_type": "stream",
     "text": [
      "processing E:/Projects/Data_Engineering/Data-Engineering/material/02_PYTHON/File_Format_Converter_Project_1/data/retail_db\\categories\\part-00000\n",
      "processing E:/Projects/Data_Engineering/Data-Engineering/material/02_PYTHON/File_Format_Converter_Project_1/data/retail_db\\customers\\part-00000\n",
      "processing E:/Projects/Data_Engineering/Data-Engineering/material/02_PYTHON/File_Format_Converter_Project_1/data/retail_db\\departments\\part-00000\n",
      "processing E:/Projects/Data_Engineering/Data-Engineering/material/02_PYTHON/File_Format_Converter_Project_1/data/retail_db\\orders\\part-00000\n",
      "processing E:/Projects/Data_Engineering/Data-Engineering/material/02_PYTHON/File_Format_Converter_Project_1/data/retail_db\\order_items\\part-00000\n",
      "processing E:/Projects/Data_Engineering/Data-Engineering/material/02_PYTHON/File_Format_Converter_Project_1/data/retail_db\\products\\part-00000\n"
     ]
    }
   ],
   "source": [
    "# CSV to json \n",
    "tgt_base_dir = 'E:/Projects/Data_Engineering/Data-Engineering/material/02_PYTHON/File_Format_Converter_Project_1/data/retail_db_json'\n",
    "\n",
    "for file in src_file_path:\n",
    "    print(f'processing {file}')                                     # processing details \n",
    "    ds_name = re.split('[/\\\\\\]',file)[-2]                           # get data source name \n",
    "    ds_file_name = re.split('[/\\\\\\]',file)[-1]                      # get file name to be created.\n",
    "    ds_column_details = get_column_names(schema,ds_name)            # get column names for data source\n",
    "    df = pd.read_csv(\n",
    "                        file,\n",
    "                        names=ds_column_details\n",
    "                    )                                               # Create dataframes form CSV \n",
    "    os.makedirs(f'{tgt_base_dir}/{ds_name}',exist_ok= True)                        # Create folder structure if not exists\n",
    "    json_file_path = f'{tgt_base_dir}/{ds_name}/{ds_file_name}.json'     # Create file path for json\n",
    "    df.to_json(\n",
    "                json_file_path,\n",
    "                orient='records',\n",
    "                lines= True\n",
    "\n",
    "    )\n"
   ]
  }
 ],
 "metadata": {
  "kernelspec": {
   "display_name": "data-venv",
   "language": "python",
   "name": "python3"
  },
  "language_info": {
   "codemirror_mode": {
    "name": "ipython",
    "version": 3
   },
   "file_extension": ".py",
   "mimetype": "text/x-python",
   "name": "python",
   "nbconvert_exporter": "python",
   "pygments_lexer": "ipython3",
   "version": "3.10.4"
  },
  "orig_nbformat": 4
 },
 "nbformat": 4,
 "nbformat_minor": 2
}
