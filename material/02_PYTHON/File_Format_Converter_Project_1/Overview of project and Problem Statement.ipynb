{
 "cells": [
  {
   "attachments": {},
   "cell_type": "markdown",
   "metadata": {},
   "source": [
    "# File Format Converter\n",
    "\n",
    "## Overview\n",
    "\n",
    "- The objective of this project is to develop solutions based on the design provided. In this case, the source data was obtained in the form of CSV files from a MySQL DB.\n",
    "\n",
    "- To improve the efficiency of our data engineering pipelines, we need to convert these CSV files into JSON files, since JSON is better to use in downstream applications than CSV files. The scope of this project involves converting CSV files into JSON files.\n"
   ]
  },
  {
   "attachments": {},
   "cell_type": "markdown",
   "metadata": {},
   "source": [
    "## Setup Instructions\n",
    "\n",
    "1. Setup the Project Using VSCode\n",
    "\n",
    "2. Make sure you have set up a virtual environment (creating venv, requirements.txt, etc.,) and installed dependencies for the project.\n",
    "\n",
    "3. It is essential that you deploy the application with the core logic.\n",
    "\n",
    "4. Run the project after setting all the environment variables.\n",
    "\n",
    "5. Take appropriate steps to handle the exception"
   ]
  },
  {
   "attachments": {},
   "cell_type": "markdown",
   "metadata": {},
   "source": [
    "## Validation Steps\n",
    "\n",
    "- You should check whether the data in the files has been converted properly.\n",
    "- Make sure the target folder has been created and populated with JSON files and confirm that the schema structure was accurately reflected from the CSV file. (Hint: Refer to schemas.json).\n",
    "- Take the count of records in the CSV files and compare it to the number of records in the JSON files.\n",
    "\n",
    "### Code for refrence\n",
    "```python\n",
    "import pandas as pd\n",
    "# ###### Read orders JSON File using PANDAS\n",
    "orders_data_json= pd.read_json(\n",
    "    'data/retail_db/orders_json/part-00000',\n",
    "    lines=True\n",
    ")\n",
    "# To find count of rows\n",
    "orders_data_json.count()\n",
    "# ###### Read order_items JSON File using PANDAS\n",
    "order_items_data_json= pd.read_json(\n",
    "    'data/retail_db/order_items_json/part-00000',\n",
    "    lines=True\n",
    ")\n",
    "# To find count of rows\n",
    "order_items_data_json.count()\n",
    "```"
   ]
  },
  {
   "attachments": {},
   "cell_type": "markdown",
   "metadata": {},
   "source": [
    "\n",
    "## Technologies Used\n",
    "- **Programming Language** – Python\n",
    "- **Pandas** – For Converting CSV to Dataframe and then Dataframe into JSON.\n"
   ]
  }
 ],
 "metadata": {
  "language_info": {
   "name": "python"
  },
  "orig_nbformat": 4
 },
 "nbformat": 4,
 "nbformat_minor": 2
}
