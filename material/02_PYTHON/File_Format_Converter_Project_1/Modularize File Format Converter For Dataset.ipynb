{
 "cells": [
  {
   "cell_type": "code",
   "execution_count": 71,
   "metadata": {},
   "outputs": [],
   "source": [
    "import os \n",
    "import pandas as pd\n",
    "import json\n",
    "import re\n",
    "import glob"
   ]
  },
  {
   "cell_type": "code",
   "execution_count": 72,
   "metadata": {},
   "outputs": [],
   "source": [
    "def get_column_name(schema, tableName, sortingKey = 'column_position'):\n",
    "    column_details = schema[tableName]\n",
    "    column_details_sort = sorted(column_details, key= lambda col:col[sortingKey])\n",
    "    return [col['column_name'] for col in column_details_sort]\n"
   ]
  },
  {
   "cell_type": "code",
   "execution_count": 73,
   "metadata": {},
   "outputs": [],
   "source": [
    "def read_csv(file, schema,ds_name):\n",
    "    columns = get_column_name(schema, ds_name )\n",
    "    df = pd.read_csv(\n",
    "                        file,\n",
    "                        names=columns\n",
    "                    )\n",
    "    return df\n",
    "    "
   ]
  },
  {
   "cell_type": "code",
   "execution_count": 74,
   "metadata": {},
   "outputs": [],
   "source": [
    "def to_json(base_dir, ds_name, file_name, df):\n",
    "    json_file_path = f'{base_dir}/{ds_name}/{file_name}.json'\n",
    "    os.makedirs(f'{base_dir}/{ds_name}', exist_ok=True)\n",
    "    df.to_json(\n",
    "                json_file_path,\n",
    "                orient = 'records',\n",
    "                lines = True\n",
    "    )"
   ]
  },
  {
   "cell_type": "code",
   "execution_count": 75,
   "metadata": {},
   "outputs": [],
   "source": [
    "def file_converter(ds_name, src_dir, trgt_base_dir, schema):\n",
    "    files = glob.glob(f'{src_dir}/{ds_name}/part-*')\n",
    "\n",
    "    for file in files:\n",
    "        df= read_csv(file, schema,ds_name)\n",
    "        json_file_name = re.split('[/\\\\\\]',file)[-1]\n",
    "        to_json(trgt_base_dir,ds_name,json_file_name,df)\n"
   ]
  },
  {
   "attachments": {},
   "cell_type": "markdown",
   "metadata": {},
   "source": [
    "## Create Wrapper to all process"
   ]
  },
  {
   "cell_type": "code",
   "execution_count": 79,
   "metadata": {},
   "outputs": [],
   "source": [
    "def process_files(ds_names = None):\n",
    "    src_dir = 'E:/Projects/Data_Engineering/Data-Engineering/material/02_PYTHON/File_Format_Converter_Project_1/data/retail_db'\n",
    "    trgt_base_dir = 'E:/Projects/Data_Engineering/Data-Engineering/material/02_PYTHON/File_Format_Converter_Project_1/data/retail_db_json'\n",
    "    schema = json.load(open(f'{src_dir}/schemas.json'))\n",
    "\n",
    "    if not ds_names:\n",
    "        ds_names = schema.keys()\n",
    "    for ds_name in ds_names:\n",
    "        print(f'processing {ds_name}')\n",
    "        file_converter(ds_name, src_dir, trgt_base_dir, schema)\n"
   ]
  },
  {
   "cell_type": "code",
   "execution_count": 77,
   "metadata": {},
   "outputs": [
    {
     "name": "stdout",
     "output_type": "stream",
     "text": [
      "processing orders\n",
      "processing departments\n"
     ]
    }
   ],
   "source": [
    "process_files(['orders','departments'])"
   ]
  },
  {
   "cell_type": "code",
   "execution_count": 80,
   "metadata": {},
   "outputs": [
    {
     "name": "stdout",
     "output_type": "stream",
     "text": [
      "processing departments\n",
      "processing categories\n",
      "processing orders\n",
      "processing products\n",
      "processing customers\n",
      "processing order_items\n"
     ]
    }
   ],
   "source": [
    "process_files()"
   ]
  }
 ],
 "metadata": {
  "kernelspec": {
   "display_name": "data-venv",
   "language": "python",
   "name": "python3"
  },
  "language_info": {
   "codemirror_mode": {
    "name": "ipython",
    "version": 3
   },
   "file_extension": ".py",
   "mimetype": "text/x-python",
   "name": "python",
   "nbconvert_exporter": "python",
   "pygments_lexer": "ipython3",
   "version": "3.10.4"
  },
  "orig_nbformat": 4
 },
 "nbformat": 4,
 "nbformat_minor": 2
}
