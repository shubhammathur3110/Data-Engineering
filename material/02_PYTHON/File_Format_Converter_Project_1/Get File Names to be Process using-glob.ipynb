{
 "cells": [
  {
   "attachments": {},
   "cell_type": "markdown",
   "metadata": {},
   "source": [
    "- glob is to get all the file names \n",
    "- glob - Filename globbing utility."
   ]
  },
  {
   "cell_type": "code",
   "execution_count": 1,
   "metadata": {},
   "outputs": [],
   "source": [
    "import glob"
   ]
  },
  {
   "cell_type": "code",
   "execution_count": 2,
   "metadata": {},
   "outputs": [
    {
     "name": "stdout",
     "output_type": "stream",
     "text": [
      "Help on module glob:\n",
      "\n",
      "NAME\n",
      "    glob - Filename globbing utility.\n",
      "\n",
      "MODULE REFERENCE\n",
      "    https://docs.python.org/3.10/library/glob.html\n",
      "    \n",
      "    The following documentation is automatically generated from the Python\n",
      "    source files.  It may be incomplete, incorrect or include features that\n",
      "    are considered implementation detail and may vary between Python\n",
      "    implementations.  When in doubt, consult the module reference at the\n",
      "    location listed above.\n",
      "\n",
      "FUNCTIONS\n",
      "    escape(pathname)\n",
      "        Escape all special characters.\n",
      "    \n",
      "    glob(pathname, *, root_dir=None, dir_fd=None, recursive=False)\n",
      "        Return a list of paths matching a pathname pattern.\n",
      "        \n",
      "        The pattern may contain simple shell-style wildcards a la\n",
      "        fnmatch. However, unlike fnmatch, filenames starting with a\n",
      "        dot are special cases that are not matched by '*' and '?'\n",
      "        patterns.\n",
      "        \n",
      "        If recursive is true, the pattern '**' will match any files and\n",
      "        zero or more directories and subdirectories.\n",
      "    \n",
      "    iglob(pathname, *, root_dir=None, dir_fd=None, recursive=False)\n",
      "        Return an iterator which yields the paths matching a pathname pattern.\n",
      "        \n",
      "        The pattern may contain simple shell-style wildcards a la\n",
      "        fnmatch. However, unlike fnmatch, filenames starting with a\n",
      "        dot are special cases that are not matched by '*' and '?'\n",
      "        patterns.\n",
      "        \n",
      "        If recursive is true, the pattern '**' will match any files and\n",
      "        zero or more directories and subdirectories.\n",
      "\n",
      "DATA\n",
      "    __all__ = ['glob', 'iglob', 'escape']\n",
      "\n",
      "FILE\n",
      "    c:\\users\\shubham\\appdata\\local\\programs\\python\\python310\\lib\\glob.py\n",
      "\n",
      "\n"
     ]
    }
   ],
   "source": [
    "help(glob)"
   ]
  },
  {
   "cell_type": "code",
   "execution_count": 13,
   "metadata": {},
   "outputs": [
    {
     "data": {
      "text/plain": [
       "['E:/Projects/Data_Engineering/Data-Engineering/material/02_PYTHON/File_Format_Converter_Project_1/data/retail_db\\\\',\n",
       " 'E:/Projects/Data_Engineering/Data-Engineering/material/02_PYTHON/File_Format_Converter_Project_1/data/retail_db\\\\categories',\n",
       " 'E:/Projects/Data_Engineering/Data-Engineering/material/02_PYTHON/File_Format_Converter_Project_1/data/retail_db\\\\categories\\\\part-00000',\n",
       " 'E:/Projects/Data_Engineering/Data-Engineering/material/02_PYTHON/File_Format_Converter_Project_1/data/retail_db\\\\create_db.sql',\n",
       " 'E:/Projects/Data_Engineering/Data-Engineering/material/02_PYTHON/File_Format_Converter_Project_1/data/retail_db\\\\create_db_tables_pg.sql',\n",
       " 'E:/Projects/Data_Engineering/Data-Engineering/material/02_PYTHON/File_Format_Converter_Project_1/data/retail_db\\\\customers',\n",
       " 'E:/Projects/Data_Engineering/Data-Engineering/material/02_PYTHON/File_Format_Converter_Project_1/data/retail_db\\\\customers\\\\part-00000',\n",
       " 'E:/Projects/Data_Engineering/Data-Engineering/material/02_PYTHON/File_Format_Converter_Project_1/data/retail_db\\\\departments',\n",
       " 'E:/Projects/Data_Engineering/Data-Engineering/material/02_PYTHON/File_Format_Converter_Project_1/data/retail_db\\\\departments\\\\part-00000',\n",
       " 'E:/Projects/Data_Engineering/Data-Engineering/material/02_PYTHON/File_Format_Converter_Project_1/data/retail_db\\\\load_db_tables_pg.sql',\n",
       " 'E:/Projects/Data_Engineering/Data-Engineering/material/02_PYTHON/File_Format_Converter_Project_1/data/retail_db\\\\orders',\n",
       " 'E:/Projects/Data_Engineering/Data-Engineering/material/02_PYTHON/File_Format_Converter_Project_1/data/retail_db\\\\orders\\\\part-00000',\n",
       " 'E:/Projects/Data_Engineering/Data-Engineering/material/02_PYTHON/File_Format_Converter_Project_1/data/retail_db\\\\order_items',\n",
       " 'E:/Projects/Data_Engineering/Data-Engineering/material/02_PYTHON/File_Format_Converter_Project_1/data/retail_db\\\\order_items\\\\part-00000',\n",
       " 'E:/Projects/Data_Engineering/Data-Engineering/material/02_PYTHON/File_Format_Converter_Project_1/data/retail_db\\\\products',\n",
       " 'E:/Projects/Data_Engineering/Data-Engineering/material/02_PYTHON/File_Format_Converter_Project_1/data/retail_db\\\\products\\\\part-00000',\n",
       " 'E:/Projects/Data_Engineering/Data-Engineering/material/02_PYTHON/File_Format_Converter_Project_1/data/retail_db\\\\schemas.json']"
      ]
     },
     "execution_count": 13,
     "metadata": {},
     "output_type": "execute_result"
    }
   ],
   "source": [
    "# To get all the file path in the mentioned path \n",
    "#If recursive is true, the pattern '**' will match any files and zero or more directories and subdirectories.\n",
    "\n",
    "folder_details = glob.glob(\n",
    "    'E:/Projects/Data_Engineering/Data-Engineering/material/02_PYTHON/File_Format_Converter_Project_1/data/retail_db/**',\n",
    "      recursive=True\n",
    "      )\n",
    "\n",
    "folder_details\n"
   ]
  },
  {
   "cell_type": "code",
   "execution_count": 14,
   "metadata": {},
   "outputs": [
    {
     "data": {
      "text/plain": [
       "['E:/Projects/Data_Engineering/Data-Engineering/material/02_PYTHON/File_Format_Converter_Project_1/data/retail_db\\\\categories\\\\part-00000',\n",
       " 'E:/Projects/Data_Engineering/Data-Engineering/material/02_PYTHON/File_Format_Converter_Project_1/data/retail_db\\\\customers\\\\part-00000',\n",
       " 'E:/Projects/Data_Engineering/Data-Engineering/material/02_PYTHON/File_Format_Converter_Project_1/data/retail_db\\\\departments\\\\part-00000',\n",
       " 'E:/Projects/Data_Engineering/Data-Engineering/material/02_PYTHON/File_Format_Converter_Project_1/data/retail_db\\\\orders\\\\part-00000',\n",
       " 'E:/Projects/Data_Engineering/Data-Engineering/material/02_PYTHON/File_Format_Converter_Project_1/data/retail_db\\\\order_items\\\\part-00000',\n",
       " 'E:/Projects/Data_Engineering/Data-Engineering/material/02_PYTHON/File_Format_Converter_Project_1/data/retail_db\\\\products\\\\part-00000']"
      ]
     },
     "execution_count": 14,
     "metadata": {},
     "output_type": "execute_result"
    }
   ],
   "source": [
    "# To get all the files in the subfolders we will use /*/* it will ignore subfolder details.\n",
    "\n",
    "subfolder_files = glob.glob(\n",
    "                        'E:/Projects/Data_Engineering/Data-Engineering/material/02_PYTHON/File_Format_Converter_Project_1/data/retail_db/*/*',\n",
    "                        recursive=True\n",
    ")               \n",
    "\n",
    "subfolder_files"
   ]
  },
  {
   "cell_type": "code",
   "execution_count": 15,
   "metadata": {},
   "outputs": [
    {
     "data": {
      "text/plain": [
       "['E:/Projects/Data_Engineering/Data-Engineering/material/02_PYTHON/File_Format_Converter_Project_1/data/retail_db\\\\categories\\\\part-00000',\n",
       " 'E:/Projects/Data_Engineering/Data-Engineering/material/02_PYTHON/File_Format_Converter_Project_1/data/retail_db\\\\customers\\\\part-00000',\n",
       " 'E:/Projects/Data_Engineering/Data-Engineering/material/02_PYTHON/File_Format_Converter_Project_1/data/retail_db\\\\departments\\\\part-00000',\n",
       " 'E:/Projects/Data_Engineering/Data-Engineering/material/02_PYTHON/File_Format_Converter_Project_1/data/retail_db\\\\orders\\\\part-00000',\n",
       " 'E:/Projects/Data_Engineering/Data-Engineering/material/02_PYTHON/File_Format_Converter_Project_1/data/retail_db\\\\order_items\\\\part-00000',\n",
       " 'E:/Projects/Data_Engineering/Data-Engineering/material/02_PYTHON/File_Format_Converter_Project_1/data/retail_db\\\\products\\\\part-00000']"
      ]
     },
     "execution_count": 15,
     "metadata": {},
     "output_type": "execute_result"
    }
   ],
   "source": [
    "# To get all the files of a similer pattern \n",
    "\n",
    "simmiler_pattern_files = glob.glob(\n",
    "                        'E:/Projects/Data_Engineering/Data-Engineering/material/02_PYTHON/File_Format_Converter_Project_1/data/retail_db/*/part-*',\n",
    "                        recursive=True\n",
    ")               \n",
    "\n",
    "simmiler_pattern_files"
   ]
  },
  {
   "cell_type": "code",
   "execution_count": 20,
   "metadata": {},
   "outputs": [
    {
     "name": "stdout",
     "output_type": "stream",
     "text": [
      "shape of E:/Projects/Data_Engineering/Data-Engineering/material/02_PYTHON/File_Format_Converter_Project_1/data/retail_db\\categories\\part-00000 is (58, 3)\n",
      "shape of E:/Projects/Data_Engineering/Data-Engineering/material/02_PYTHON/File_Format_Converter_Project_1/data/retail_db\\customers\\part-00000 is (12435, 9)\n",
      "shape of E:/Projects/Data_Engineering/Data-Engineering/material/02_PYTHON/File_Format_Converter_Project_1/data/retail_db\\departments\\part-00000 is (6, 2)\n",
      "shape of E:/Projects/Data_Engineering/Data-Engineering/material/02_PYTHON/File_Format_Converter_Project_1/data/retail_db\\orders\\part-00000 is (68883, 4)\n",
      "shape of E:/Projects/Data_Engineering/Data-Engineering/material/02_PYTHON/File_Format_Converter_Project_1/data/retail_db\\order_items\\part-00000 is (172198, 6)\n",
      "shape of E:/Projects/Data_Engineering/Data-Engineering/material/02_PYTHON/File_Format_Converter_Project_1/data/retail_db\\products\\part-00000 is (1345, 6)\n"
     ]
    }
   ],
   "source": [
    "# To get the above files into a datafram \n",
    "# for this we will use Pandas\n",
    "\n",
    "import pandas as pd \n",
    "\n",
    "for file_name in simmiler_pattern_files:\n",
    "    df = pd.read_csv(\n",
    "                    file_name,\n",
    "                    header=None)\n",
    "    print(f'shape of {file_name} is {df.shape}')\n"
   ]
  }
 ],
 "metadata": {
  "kernelspec": {
   "display_name": "data-venv",
   "language": "python",
   "name": "python3"
  },
  "language_info": {
   "codemirror_mode": {
    "name": "ipython",
    "version": 3
   },
   "file_extension": ".py",
   "mimetype": "text/x-python",
   "name": "python",
   "nbconvert_exporter": "python",
   "pygments_lexer": "ipython3",
   "version": "3.10.4"
  },
  "orig_nbformat": 4
 },
 "nbformat": 4,
 "nbformat_minor": 2
}
