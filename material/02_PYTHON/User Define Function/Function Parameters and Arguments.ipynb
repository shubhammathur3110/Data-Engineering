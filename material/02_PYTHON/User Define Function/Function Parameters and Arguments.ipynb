{
 "cells": [
  {
   "cell_type": "markdown",
   "metadata": {},
   "source": [
    "## Function Parameters and Arguments\n",
    "\n",
    "Let us get an overview of different types of Function Parameters and Arguments supported by Python."
   ]
  },
  {
   "cell_type": "markdown",
   "metadata": {},
   "source": [
    "* Parameter is variable in the declaration of function. Argument is the actual value of this variable that gets passed to function.\n",
    "* However, in some cases these two terms are used interchangeably.\n",
    "* In Python, parameters can be objects or even functions. We can pass named functions or lambda functions as arguments. We will talk about these details later.\n",
    "* Here are different types of parameters or arguments:\n",
    "  * Parameters with Default Values\n",
    "  * Varying arguments\n",
    "  * Keyword arguments\n",
    "  * Varying Keyword arguments\n",
    "* We can pass arguments to a function by parameter position or name. If you use name you can pass arguments in any order.\n",
    "* You can only specify parameters with default values after mandatory parameters. `def get_commission_amount(sales_amount=1000, commission_pct)` is syntactically wrong and throws error."
   ]
  },
  {
   "cell_type": "markdown",
   "metadata": {},
   "source": [
    "### Tasks\n",
    "Let us perform a few tasks to understand more about parameters and arguments with and with out default values.\n",
    "\n",
    "* Checking whether phone numbers of a given employee are valid - get_invalid_phone_count\n",
    "  * Function should take 2 arguments, employee_id and phone_numbers (list)\n",
    "  * Check whether each phone number have 10 digits.\n",
    "  * Return employee_id and number of phone numbers with less than 10 digits\n",
    "* Get commission amount by passing sales amount and commission percentage. However, if the commission percentage is not passed from the caller, then the default percentage should be 10."
   ]
  },
  {
   "cell_type": "code",
   "execution_count": 6,
   "metadata": {},
   "outputs": [],
   "source": [
    "def get_invalid_phone_count(employee_id, phone_number:list):\n",
    "    valid_count = 0\n",
    "    invalid_count = 0 \n",
    "    for phone in phone_number:\n",
    "        if len(phone) != 10:\n",
    "            invalid_count += 1\n",
    "        else:\n",
    "            valid_count += 1\n",
    "    return employee_id, invalid_count,valid_count\n"
   ]
  },
  {
   "cell_type": "code",
   "execution_count": 9,
   "metadata": {},
   "outputs": [
    {
     "name": "stdout",
     "output_type": "stream",
     "text": [
      "Employee 1 have 2 invalid phone number and 1 valid phone number\n"
     ]
    }
   ],
   "source": [
    "employee_id, invalid, valid = get_invalid_phone_count(1, ['1234', '1234567890','3841684168419846519'])\n",
    "print(f'Employee {employee_id} have {invalid} invalid phone number and {valid} valid phone number')"
   ]
  },
  {
   "cell_type": "code",
   "execution_count": 10,
   "metadata": {},
   "outputs": [
    {
     "ename": "SyntaxError",
     "evalue": "non-default argument follows default argument (2035185246.py, line 1)",
     "output_type": "error",
     "traceback": [
      "\u001b[0;36m  Cell \u001b[0;32mIn [10], line 1\u001b[0;36m\u001b[0m\n\u001b[0;31m    def get_commission_amount(sales_amount=1000, commission_pct):\u001b[0m\n\u001b[0m                              ^\u001b[0m\n\u001b[0;31mSyntaxError\u001b[0m\u001b[0;31m:\u001b[0m non-default argument follows default argument\n"
     ]
    }
   ],
   "source": [
    "def get_commission_amount(sales_amount=1000, commission_pct):\n",
    "    \"\"\"Function to compute commission amount. commission_pct should be passed as percent notation (eg: 20%)\n",
    "       20% using percent notation is equal to 0.20 in decimal notation.\n",
    "    \"\"\"\n",
    "    commission_amount = (sales_amount * commission_pct / 100) if commission_pct else 0\n",
    "    return commission_amount"
   ]
  },
  {
   "cell_type": "code",
   "execution_count": 11,
   "metadata": {},
   "outputs": [],
   "source": [
    "def get_commission_amount(commission_pct, sales_amount=1000 ):\n",
    "    \"\"\"Function to compute commission amount. commission_pct should be passed as percent notation (eg: 20%)\n",
    "       20% using percent notation is equal to 0.20 in decimal notation.\n",
    "    \"\"\"\n",
    "    commission_amount = (sales_amount * commission_pct / 100) if commission_pct else 0\n",
    "    return commission_amount"
   ]
  },
  {
   "cell_type": "code",
   "execution_count": 1,
   "metadata": {},
   "outputs": [],
   "source": [
    "def get_commission_amount(sales_amount, commission_pct=10):\n",
    "    \"\"\"Function to compute commission amount. commission_pct should be passed as percent notation (eg: 20%)\n",
    "       20% using percent notation is equal to 0.20 in decimal notation.\n",
    "    \"\"\"\n",
    "    if commission_pct and commission_pct > 100:\n",
    "        print('Invalid Commision Percentage, greater than 100')\n",
    "        return\n",
    "    commission_amount = sales_amount * (commission_pct / 100) if commission_pct else 0\n",
    "    return commission_amount"
   ]
  },
  {
   "cell_type": "code",
   "execution_count": 2,
   "metadata": {},
   "outputs": [
    {
     "data": {
      "text/plain": [
       "50.0"
      ]
     },
     "execution_count": 2,
     "metadata": {},
     "output_type": "execute_result"
    }
   ],
   "source": [
    "# Arguments by position\n",
    "get_commission_amount(1000, 5)"
   ]
  },
  {
   "cell_type": "code",
   "execution_count": 3,
   "metadata": {},
   "outputs": [
    {
     "data": {
      "text/plain": [
       "100.0"
      ]
     },
     "execution_count": 3,
     "metadata": {},
     "output_type": "execute_result"
    }
   ],
   "source": [
    "# Will take commission_pct default value\n",
    "get_commission_amount(1000)"
   ]
  },
  {
   "cell_type": "code",
   "execution_count": 4,
   "metadata": {},
   "outputs": [
    {
     "data": {
      "text/plain": [
       "0"
      ]
     },
     "execution_count": 4,
     "metadata": {},
     "output_type": "execute_result"
    }
   ],
   "source": [
    "get_commission_amount(1000, None)"
   ]
  },
  {
   "cell_type": "code",
   "execution_count": 5,
   "metadata": {},
   "outputs": [
    {
     "name": "stdout",
     "output_type": "stream",
     "text": [
      "Invalid Commision Percentage, greater than 100\n"
     ]
    }
   ],
   "source": [
    "get_commission_amount(1000, 150)"
   ]
  },
  {
   "cell_type": "code",
   "execution_count": 6,
   "metadata": {},
   "outputs": [
    {
     "data": {
      "text/plain": [
       "270.0"
      ]
     },
     "execution_count": 6,
     "metadata": {},
     "output_type": "execute_result"
    }
   ],
   "source": [
    "# Arguments by name\n",
    "get_commission_amount(commission_pct=18, sales_amount=1500)"
   ]
  },
  {
   "cell_type": "markdown",
   "metadata": {},
   "source": [
    "## Varying Arguments\n",
    "\n",
    "In Python we can pass different number of arguments of same type while invoking functions. Let's talk about Varying arguments."
   ]
  },
  {
   "cell_type": "markdown",
   "metadata": {},
   "source": [
    "* At times we might want to pass values of same type as arguments and we might not know how many of them.\n",
    "* In that scenario we can leverage the concept of Varying arguments.\n",
    "* The parameter which accepts Varying arguments should have `*` at the beginning - example: `*phone_numbers`.\n",
    "* As part of the function body the type of the parameter will be `tuple`. In our case, as we will be passing phone numbers as strings, it will be of type `tuple` where each element will be of type string."
   ]
  },
  {
   "cell_type": "code",
   "execution_count": 7,
   "metadata": {},
   "outputs": [],
   "source": [
    "def get_invalid_phone_count(*phone_numbers, employee_id):\n",
    "    invalid_count = 0\n",
    "    for phone_number in phone_numbers:\n",
    "        if len(phone_number) < 10:\n",
    "            invalid_count += 1\n",
    "    return employee_id, invalid_count"
   ]
  },
  {
   "cell_type": "code",
   "execution_count": 8,
   "metadata": {},
   "outputs": [
    {
     "ename": "TypeError",
     "evalue": "get_invalid_phone_count() missing 1 required keyword-only argument: 'employee_id'",
     "output_type": "error",
     "traceback": [
      "\u001b[0;31m---------------------------------------------------------------------------\u001b[0m",
      "\u001b[0;31mTypeError\u001b[0m                                 Traceback (most recent call last)",
      "Cell \u001b[0;32mIn [8], line 2\u001b[0m\n\u001b[1;32m      1\u001b[0m s \u001b[38;5;241m=\u001b[39m \u001b[38;5;124m'\u001b[39m\u001b[38;5;124mEmployee \u001b[39m\u001b[38;5;132;01m{employee_id}\u001b[39;00m\u001b[38;5;124m have \u001b[39m\u001b[38;5;132;01m{invalid_count}\u001b[39;00m\u001b[38;5;124m invalid phones\u001b[39m\u001b[38;5;124m'\u001b[39m\n\u001b[0;32m----> 2\u001b[0m employee_id, invalid_count \u001b[38;5;241m=\u001b[39m \u001b[43mget_invalid_phone_count\u001b[49m\u001b[43m(\u001b[49m\u001b[38;5;124;43m'\u001b[39;49m\u001b[38;5;124;43m1234\u001b[39;49m\u001b[38;5;124;43m'\u001b[39;49m\u001b[43m,\u001b[49m\u001b[43m \u001b[49m\u001b[38;5;124;43m'\u001b[39;49m\u001b[38;5;124;43m1234567890\u001b[39;49m\u001b[38;5;124;43m'\u001b[39;49m\u001b[43m,\u001b[49m\u001b[43m \u001b[49m\u001b[38;5;241;43m1\u001b[39;49m\u001b[43m)\u001b[49m\n",
      "\u001b[0;31mTypeError\u001b[0m: get_invalid_phone_count() missing 1 required keyword-only argument: 'employee_id'"
     ]
    }
   ],
   "source": [
    "s = 'Employee {employee_id} have {invalid_count} invalid phones'\n",
    "employee_id, invalid_count = get_invalid_phone_count('1234', '1234567890', 1) \n",
    "# argument by position will fail\n",
    "# Python interpreter cannot determine whether 1 is related to phone_numbers or employee_id"
   ]
  },
  {
   "cell_type": "code",
   "execution_count": 9,
   "metadata": {},
   "outputs": [
    {
     "ename": "TypeError",
     "evalue": "get_invalid_phone_count() got an unexpected keyword argument 'phone_numbers'",
     "output_type": "error",
     "traceback": [
      "\u001b[0;31m---------------------------------------------------------------------------\u001b[0m",
      "\u001b[0;31mTypeError\u001b[0m                                 Traceback (most recent call last)",
      "Cell \u001b[0;32mIn [9], line 3\u001b[0m\n\u001b[1;32m      1\u001b[0m s \u001b[38;5;241m=\u001b[39m \u001b[38;5;124m'\u001b[39m\u001b[38;5;124mEmployee \u001b[39m\u001b[38;5;132;01m{employee_id}\u001b[39;00m\u001b[38;5;124m have \u001b[39m\u001b[38;5;132;01m{invalid_count}\u001b[39;00m\u001b[38;5;124m invalid phones\u001b[39m\u001b[38;5;124m'\u001b[39m\n\u001b[1;32m      2\u001b[0m phone_numbers \u001b[38;5;241m=\u001b[39m (\u001b[38;5;124m'\u001b[39m\u001b[38;5;124m1234\u001b[39m\u001b[38;5;124m'\u001b[39m, \u001b[38;5;124m'\u001b[39m\u001b[38;5;124m1234567890\u001b[39m\u001b[38;5;124m'\u001b[39m,)\n\u001b[0;32m----> 3\u001b[0m employee_id, invalid_count \u001b[38;5;241m=\u001b[39m \u001b[43mget_invalid_phone_count\u001b[49m\u001b[43m(\u001b[49m\u001b[43memployee_id\u001b[49m\u001b[38;5;241;43m=\u001b[39;49m\u001b[38;5;241;43m1\u001b[39;49m\u001b[43m,\u001b[49m\u001b[43m \u001b[49m\u001b[43mphone_numbers\u001b[49m\u001b[38;5;241;43m=\u001b[39;49m\u001b[43mphone_numbers\u001b[49m\u001b[43m)\u001b[49m\n",
      "\u001b[0;31mTypeError\u001b[0m: get_invalid_phone_count() got an unexpected keyword argument 'phone_numbers'"
     ]
    }
   ],
   "source": [
    "s = 'Employee {employee_id} have {invalid_count} invalid phones'\n",
    "phone_numbers = ('1234', '1234567890',)\n",
    "employee_id, invalid_count = get_invalid_phone_count(employee_id=1, phone_numbers=phone_numbers) \n",
    "# argument by name will fail\n",
    "# This will fail as we cannot pass varrying argument using keyword"
   ]
  },
  {
   "cell_type": "code",
   "execution_count": 11,
   "metadata": {},
   "outputs": [],
   "source": [
    "s = 'Employee {employee_id} have {invalid_count} invalid phones'\n",
    "employee_id, invalid_count = get_invalid_phone_count('1234', '1234567890', employee_id=1) \n",
    "# argument by position will fail\n",
    "# Python interpreter cannot determine whether 1 is related to phone_numbers or employee_id"
   ]
  },
  {
   "cell_type": "code",
   "execution_count": 12,
   "metadata": {},
   "outputs": [
    {
     "name": "stdout",
     "output_type": "stream",
     "text": [
      "Employee 1 have 1 invalid phones\n"
     ]
    }
   ],
   "source": [
    "print(s.format(employee_id=employee_id, invalid_count=invalid_count))"
   ]
  },
  {
   "cell_type": "code",
   "execution_count": 13,
   "metadata": {},
   "outputs": [],
   "source": [
    "def get_invalid_phone_count(employee_id, *phone_numbers):\n",
    "    print(f'Length of phone_numbers is: {len(phone_numbers)}')\n",
    "    print(f'Type of phone_numbers is: {type(phone_numbers)}')\n",
    "    print(f'Type of each phone number is: {type(phone_numbers[0])}')\n",
    "    print(phone_numbers)\n",
    "    invalid_count = 0\n",
    "    for phone_number in phone_numbers:\n",
    "        if len(phone_number) < 10:\n",
    "            invalid_count += 1\n",
    "    return employee_id, invalid_count"
   ]
  },
  {
   "cell_type": "code",
   "execution_count": 14,
   "metadata": {},
   "outputs": [
    {
     "name": "stdout",
     "output_type": "stream",
     "text": [
      "Length of phone_numbers is: 2\n",
      "Type of phone_numbers is: <class 'tuple'>\n",
      "Type of each phone number is: <class 'str'>\n",
      "('1234', '1234567890')\n"
     ]
    }
   ],
   "source": [
    "s = 'Employee {employee_id} have {invalid_count} invalid phones'\n",
    "employee_id, invalid_count = get_invalid_phone_count(1, '1234', '1234567890') \n",
    "# argument by position works here"
   ]
  },
  {
   "cell_type": "code",
   "execution_count": 15,
   "metadata": {},
   "outputs": [
    {
     "name": "stdout",
     "output_type": "stream",
     "text": [
      "Length of phone_numbers is: 2\n",
      "Type of phone_numbers is: <class 'tuple'>\n",
      "Type of each phone number is: <class 'str'>\n",
      "('1234', '1234567890')\n"
     ]
    }
   ],
   "source": [
    "s = 'Employee {employee_id} have {invalid_count} invalid phones'\n",
    "phone_numbers = ['1234', '1234567890']\n",
    "employee_id, invalid_count = get_invalid_phone_count(1, *phone_numbers) \n",
    "# argument by position works here"
   ]
  },
  {
   "cell_type": "markdown",
   "metadata": {},
   "source": [
    "## Keyword Arguments\n",
    "\n",
    "Let us go through the details related to Keyword Arguments using Python as Programming Language."
   ]
  },
  {
   "cell_type": "markdown",
   "metadata": {},
   "source": [
    "* Keyword Argument is same as passing argument by name.\n",
    "* You can also specify parameter for varying keyword arguments with `**` at the beginning - example: `**degrees`\n",
    "* While passing arguments to satisfy the parameter with `**`, you have to pass key as well as value.\n",
    "* Varying Keyword Arguments can be processed as `dict` in the Function body."
   ]
  },
  {
   "cell_type": "code",
   "execution_count": 16,
   "metadata": {},
   "outputs": [],
   "source": [
    "def add_employee(employee_id, **degrees):\n",
    "    print(f'Length of degrees is: {len(degrees)}')\n",
    "    print(f'Type of degrees is: {type(degrees)}')\n",
    "    print(degrees)"
   ]
  },
  {
   "cell_type": "code",
   "execution_count": 17,
   "metadata": {},
   "outputs": [
    {
     "name": "stdout",
     "output_type": "stream",
     "text": [
      "Length of degrees is: 2\n",
      "Type of degrees is: <class 'dict'>\n",
      "{'bachelors': 'B. Sc', 'masters': 'M. C. A'}\n"
     ]
    }
   ],
   "source": [
    "add_employee(1, bachelors='B. Sc', masters='M. C. A')"
   ]
  },
  {
   "cell_type": "code",
   "execution_count": 18,
   "metadata": {},
   "outputs": [
    {
     "name": "stdout",
     "output_type": "stream",
     "text": [
      "Length of degrees is: 2\n",
      "Type of degrees is: <class 'dict'>\n",
      "{'bachelors': 'B. Sc', 'masters': 'M. C. A'}\n"
     ]
    }
   ],
   "source": [
    "degrees = {'bachelors': 'B. Sc', 'masters': 'M. C. A'}\n",
    "add_employee(1, **degrees)"
   ]
  },
  {
   "cell_type": "code",
   "execution_count": 19,
   "metadata": {},
   "outputs": [],
   "source": [
    "def add_employee(employee_id, *phone_numbers, **degrees):\n",
    "    print(f'Length of phone_numbers is: {len(phone_numbers)}')\n",
    "    print(f'Type of phone_numbers is: {type(phone_numbers)}')\n",
    "    print(phone_numbers)    \n",
    "    print(f'Length of degrees is: {len(degrees)}')\n",
    "    print(f'Type of degrees is: {type(degrees)}')\n",
    "    print(degrees)"
   ]
  },
  {
   "cell_type": "code",
   "execution_count": 20,
   "metadata": {},
   "outputs": [
    {
     "name": "stdout",
     "output_type": "stream",
     "text": [
      "Length of phone_numbers is: 2\n",
      "Type of phone_numbers is: <class 'tuple'>\n",
      "('1234567890', '1234567890')\n",
      "Length of degrees is: 2\n",
      "Type of degrees is: <class 'dict'>\n",
      "{'bachelors': 'B. Sc', 'masters': 'M. C. A'}\n"
     ]
    }
   ],
   "source": [
    "add_employee(1, '1234567890', '1234567890', bachelors='B. Sc', masters='M. C. A')"
   ]
  },
  {
   "cell_type": "code",
   "execution_count": null,
   "metadata": {},
   "outputs": [],
   "source": []
  }
 ],
 "metadata": {
  "kernelspec": {
   "display_name": "Python 3 (ipykernel)",
   "language": "python",
   "name": "python3"
  },
  "language_info": {
   "codemirror_mode": {
    "name": "ipython",
    "version": 3
   },
   "file_extension": ".py",
   "mimetype": "text/x-python",
   "name": "python",
   "nbconvert_exporter": "python",
   "pygments_lexer": "ipython3",
   "version": "3.8.15"
  }
 },
 "nbformat": 4,
 "nbformat_minor": 4
}
