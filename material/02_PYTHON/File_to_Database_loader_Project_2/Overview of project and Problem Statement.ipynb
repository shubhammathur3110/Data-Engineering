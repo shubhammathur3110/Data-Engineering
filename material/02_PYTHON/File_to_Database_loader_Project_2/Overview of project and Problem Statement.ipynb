{
 "cells": [
  {
   "attachments": {},
   "cell_type": "markdown",
   "metadata": {},
   "source": [
    "# Project 2 - Files To Database Loader Handout\n",
    "\n",
    "## Overview\n",
    "\n",
    "- The objective of this project is to develop solutions based on the design provided. In this case, the source data was obtained in the form of files from a MySQL DB.\n",
    "- We require the data to be loaded into PostgreSQL, which is a common scenario in companies who want to change underlying database technologies, in which case the data from one DB needs to be migrated into another DB. The Project scope is to migrate file-based data to PostgreSQL tables\n",
    "\n",
    "## Setup Instructions\n",
    "- The previous project can be used as a reference for the following steps. Watch the relevant videos to take care of the setup.\n",
    "\n",
    "## Setup the Project Using VSCode\n",
    "- Make sure you have set up a virtual environment (creating venv, requirements.txt, etc.,) and installed dependencies for the project.\n",
    "- It is essential that you deploy the application with the core logic.\n",
    "- Be sure to drop the tables and recreate them using the scripts OR simply truncate the tables with the truncate command before running the scripts\n",
    "- Run the project after setting all the environment variables.\n",
    "\n",
    "\n",
    "\n",
    "## Validation Steps\n",
    "- You should check whether the data in the tables have been populated by running queries.\n",
    "- In postgres tables, we need to confirm that the schema structure (column name, data type, etc.) was accurately reflected from the CSV file. (Hint: Refer to schemas.json)\n",
    "- Take the count of records in the CSV files and compare it to the number of records in the PostgreSQL tables. The count should match the numbers below.\n",
    "    ``` SQL\n",
    "    select count(*) from orders; --68883\n",
    "    select count(*) from order_items; --172198\n",
    "    select count(*) from categories; --58\n",
    "    select count(*) from customers; --12435\n",
    "    select count(*) from departments; --6\n",
    "    select count(*) from products; --1345\n",
    "    ```\n",
    "\n",
    "## Technologies Used\n",
    "- Programming Language – Python\n",
    "- Pandas – For Converting CSV to Dataframe and then load the Dataframe into Postgres Database\n",
    "\n"
   ]
  }
 ],
 "metadata": {
  "kernelspec": {
   "display_name": "data-venv",
   "language": "python",
   "name": "python3"
  },
  "language_info": {
   "name": "python",
   "version": "3.10.4"
  },
  "orig_nbformat": 4
 },
 "nbformat": 4,
 "nbformat_minor": 2
}
