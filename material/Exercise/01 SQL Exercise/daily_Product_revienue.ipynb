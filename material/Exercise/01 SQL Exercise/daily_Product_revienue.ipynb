{
 "cells": [
  {
   "cell_type": "markdown",
   "id": "0e4948cf-abfb-43b6-8ff1-a9f537f89582",
   "metadata": {},
   "source": [
    "# Define Problem Statement - Daily Product Revenue"
   ]
  },
  {
   "cell_type": "markdown",
   "id": "c433c7d4-fc2d-4eee-be59-9241f18956f4",
   "metadata": {},
   "source": [
    "**Let us try to get daily Product revenue using retail tables**\n",
    " - daily is derived from orders.order_date.\n",
    " - product has to be derived from products.product_name\n",
    " - revenue has to be deriverd from order_items.order_item_subtotal.\n",
    " - we need to join all the 3 tables, then group by order_date, product_id as well as product_name to get revenue using order_item_subtotal\n",
    " - Get Daily Product Revenue using products, orders, and order_items data set\n",
    " - we have folloing fields in **orders.**\n",
    "     - **order_id**\n",
    "     - **order_date**\n",
    "     - **order_customer_id**\n",
    " - we have following fields in **order_items.**\n",
    "     - **order_item_id**\n",
    "     - **order_item_order_id**\n",
    "     - **order_item_product_id**\n",
    "     - **order_item_quanity**\n",
    "     - **order_item_subtotal**\n",
    "     - **order_item_product_price**\n",
    " - We have following fields in **products.**\n",
    "     - **product_id** \n",
    "     - **product_catagory_id**\n",
    "     - **product_name**\n",
    "     - **product_description**\n",
    "     - **roduct_price**\n",
    "     - **product_image**\n",
    "  - We have one to many relationship between orders and order_items.\n",
    "  - **orders.order_id** is **primary key** and **order_items.order_item_order_id** is foreign key to **orders_order_id.**\n",
    "  - We have one to many relationship between products and order_items.\n",
    "  - **products.product_id** is **primary key** and **order_item.order_item_product_id** is foregin key to **products.product_id**\n",
    "  - By the end of this module we will explore all standard transformations and get daily product revenue using following fields.\n",
    "      - **orders.order_date**\n",
    "      - **order_items.order_item_product_id**\n",
    "      - **products.product_name**\n",
    "      - **order_items.order_item_subtotal** (aggregated using data and product and product_id).\n",
    "   - We will consider only **COMPLETE** and **CLOSED** orders.\n",
    "   - As there can be more then one product names with different ids, we have to include product_id as part of the key using which we will group the data."
   ]
  }
 ],
 "metadata": {
  "kernelspec": {
   "display_name": "Python 3 (ipykernel)",
   "language": "python",
   "name": "python3"
  },
  "language_info": {
   "codemirror_mode": {
    "name": "ipython",
    "version": 3
   },
   "file_extension": ".py",
   "mimetype": "text/x-python",
   "name": "python",
   "nbconvert_exporter": "python",
   "pygments_lexer": "ipython3",
   "version": "3.8.15"
  }
 },
 "nbformat": 4,
 "nbformat_minor": 5
}
