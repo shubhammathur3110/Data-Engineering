{
 "cells": [
  {
   "cell_type": "markdown",
   "id": "c4b46c1d-a949-4223-8e23-5bf8f88cff6c",
   "metadata": {},
   "source": [
    "# Course Problem statement \n",
    "\n",
    "## create a table Named:- courses using SQL statement and perform the below operations\n",
    "1. **Create table - courses** \n",
    "\n",
    "   - structure \n",
    "       - course_id - sequence generated integer and primary key\n",
    "       - course_name - which holds alpha numeric or string values up to 60 characters\n",
    "       - course_author - which holds the name of the author up to 40 characters\n",
    "       - course_status - which olds one of these values (published, draft, inactive)\n",
    "       - course_published_dt - which hilds data type value\n",
    "2. **Insert data into courses using the data provided. Make sure id is system generated.**\n",
    "3. **Perform the below operations**\n",
    "\n",
    "    - *update the status of all the **Draft courses** rrelated to Python and Scala to **published** along with the **course_published_dy using system date***.\n",
    "    - Delete all the courses which are neither in draft mode nor published.\n",
    "    - Validation - Get count of all published courses by author and make sure output is sorted in descending order by count.\n",
    "\n"
   ]
  },
  {
   "cell_type": "code",
   "execution_count": null,
   "id": "4b4687fe-aca2-4c95-8cd6-66735bb19ff8",
   "metadata": {},
   "outputs": [],
   "source": []
  },
  {
   "cell_type": "code",
   "execution_count": null,
   "id": "fd5404c4-d1bf-45bd-bf9d-87617ec3af2c",
   "metadata": {},
   "outputs": [],
   "source": []
  }
 ],
 "metadata": {
  "kernelspec": {
   "display_name": "Python 3 (ipykernel)",
   "language": "python",
   "name": "python3"
  },
  "language_info": {
   "codemirror_mode": {
    "name": "ipython",
    "version": 3
   },
   "file_extension": ".py",
   "mimetype": "text/x-python",
   "name": "python",
   "nbconvert_exporter": "python",
   "pygments_lexer": "ipython3",
   "version": "3.8.15"
  }
 },
 "nbformat": 4,
 "nbformat_minor": 5
}
