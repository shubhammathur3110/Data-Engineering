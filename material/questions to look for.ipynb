{
 "cells": [
  {
   "cell_type": "markdown",
   "id": "856b7674-6db4-4475-9397-ed9e8acee343",
   "metadata": {},
   "source": [
    "- Complete exercises on partitions\n",
    "- Complete exersises on Pre-Defined Functions\n",
    "- Complete exersises on Advance SQL\n",
    "- process of data engineering for NoSQL DBs."
   ]
  }
 ],
 "metadata": {
  "kernelspec": {
   "display_name": "Python 3 (ipykernel)",
   "language": "python",
   "name": "python3"
  },
  "language_info": {
   "codemirror_mode": {
    "name": "ipython",
    "version": 3
   },
   "file_extension": ".py",
   "mimetype": "text/x-python",
   "name": "python",
   "nbconvert_exporter": "python",
   "pygments_lexer": "ipython3",
   "version": "3.8.15"
  }
 },
 "nbformat": 4,
 "nbformat_minor": 5
}
